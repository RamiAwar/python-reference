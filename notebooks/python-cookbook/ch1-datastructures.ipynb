{
 "cells": [
  {
   "cell_type": "markdown",
   "id": "9f03c88c",
   "metadata": {
    "slideshow": {
     "slide_type": "slide"
    }
   },
   "source": [
    "# General Format of Python Cooking Session\n",
    "\n",
    "Most recipes can be found via a quick google search. We're not trying to replace that.\n",
    "\n",
    "Instead, we're going to go over some core recipes that are hard to reach with searches. For some recipes, if you've never heard of it before, you wouldn't know to search for it. Those are the ones we will focus on in these sessions.\n",
    "\n",
    "For upcoming volunteers, we don't have to stick to the book. We probably won't even cover all the chapters.I would like to curate the recipes to be presented with you however if you plan on going up next!\n"
   ]
  },
  {
   "cell_type": "markdown",
   "id": "f34074a6",
   "metadata": {
    "slideshow": {
     "slide_type": "slide"
    }
   },
   "source": [
    "# 1. Packing, Unpacking"
   ]
  },
  {
   "cell_type": "code",
   "execution_count": 43,
   "id": "a94ef532",
   "metadata": {
    "slideshow": {
     "slide_type": "fragment"
    }
   },
   "outputs": [],
   "source": [
    "# Unpack into variables\n",
    "x, y = (1, 2)\n",
    "x, (y, z) = (1, (2, 3))"
   ]
  },
  {
   "cell_type": "code",
   "execution_count": 45,
   "id": "154f99b4",
   "metadata": {
    "slideshow": {
     "slide_type": "fragment"
    }
   },
   "outputs": [],
   "source": [
    "# Unpack N elements from iterable with length > N\n",
    "first, *middle, last = (1, 2, 3, 4, 5)"
   ]
  },
  {
   "cell_type": "markdown",
   "id": "2ed170f0",
   "metadata": {
    "slideshow": {
     "slide_type": "slide"
    }
   },
   "source": [
    "## Ignoring middle fields is a powerful pattern"
   ]
  },
  {
   "cell_type": "code",
   "execution_count": 46,
   "id": "7ec5b82a",
   "metadata": {
    "slideshow": {
     "slide_type": "fragment"
    }
   },
   "outputs": [],
   "source": [
    "line = \"nobody:*:-2:-2:Unprivileged User:/var/empty:/usr/bin/false\""
   ]
  },
  {
   "cell_type": "code",
   "execution_count": 47,
   "id": "a3daf220",
   "metadata": {
    "slideshow": {
     "slide_type": "fragment"
    }
   },
   "outputs": [],
   "source": [
    "user, *fields, homedir, sh = line.split(\":\")"
   ]
  },
  {
   "cell_type": "code",
   "execution_count": 48,
   "id": "abd7cfe9",
   "metadata": {
    "slideshow": {
     "slide_type": "fragment"
    }
   },
   "outputs": [
    {
     "data": {
      "text/plain": [
       "'/var/empty'"
      ]
     },
     "execution_count": 48,
     "metadata": {},
     "output_type": "execute_result"
    }
   ],
   "source": [
    "homedir"
   ]
  },
  {
   "cell_type": "code",
   "execution_count": 18,
   "id": "6e5362db",
   "metadata": {
    "slideshow": {
     "slide_type": "fragment"
    }
   },
   "outputs": [
    {
     "data": {
      "text/plain": [
       "'/usr/bin/false'"
      ]
     },
     "execution_count": 18,
     "metadata": {},
     "output_type": "execute_result"
    }
   ],
   "source": [
    "sh"
   ]
  },
  {
   "cell_type": "code",
   "execution_count": 49,
   "id": "78d5cfc2",
   "metadata": {
    "slideshow": {
     "slide_type": "slide"
    }
   },
   "outputs": [],
   "source": [
    "# Don't care about middle fields, throwaway\n",
    "name, *_, (*_, year) = ('ACME', 50, 123.45, (12, 18, 2012))"
   ]
  },
  {
   "cell_type": "code",
   "execution_count": 22,
   "id": "64216a87",
   "metadata": {
    "slideshow": {
     "slide_type": "fragment"
    }
   },
   "outputs": [
    {
     "data": {
      "text/plain": [
       "'ACME'"
      ]
     },
     "execution_count": 22,
     "metadata": {},
     "output_type": "execute_result"
    }
   ],
   "source": [
    "name"
   ]
  },
  {
   "cell_type": "code",
   "execution_count": 23,
   "id": "6f125050",
   "metadata": {
    "slideshow": {
     "slide_type": "fragment"
    }
   },
   "outputs": [
    {
     "data": {
      "text/plain": [
       "2012"
      ]
     },
     "execution_count": 23,
     "metadata": {},
     "output_type": "execute_result"
    }
   ],
   "source": [
    "year"
   ]
  },
  {
   "cell_type": "markdown",
   "id": "bef415bf",
   "metadata": {
    "slideshow": {
     "slide_type": "slide"
    }
   },
   "source": [
    "# 2. Defaultdict: Very Frequently Used\n",
    "\n",
    "- Problem: Want to avoid dictionary value initialization for mutable values ex. lists, sets, dicts"
   ]
  },
  {
   "cell_type": "code",
   "execution_count": 51,
   "id": "a257eab0",
   "metadata": {
    "slideshow": {
     "slide_type": "fragment"
    }
   },
   "outputs": [
    {
     "data": {
      "text/plain": [
       "{'product_1': ['customer_a', 'customer_c'], 'product_2': ['customer_b']}"
      ]
     },
     "execution_count": 51,
     "metadata": {},
     "output_type": "execute_result"
    }
   ],
   "source": [
    "# Without defaultdict\n",
    "product_orders = {}\n",
    "history = [\n",
    "    (\"customer_a\", \"product_1\"), \n",
    "    (\"customer_b\", \"product_2\"), \n",
    "    (\"customer_c\", \"product_1\"),\n",
    "]\n",
    "\n",
    "for customer, product in history:\n",
    "    # If doesn't exist, create list of customers\n",
    "    if not product_orders.get(product):\n",
    "        product_orders[product] = [customer]\n",
    "    \n",
    "    # If does exist, can append\n",
    "    else:\n",
    "        product_orders[product].append(customer)\n",
    "        \n",
    "product_orders"
   ]
  },
  {
   "cell_type": "markdown",
   "id": "8f8a1626",
   "metadata": {
    "slideshow": {
     "slide_type": "slide"
    }
   },
   "source": [
    "### Can do this much more easily with defaultdicts"
   ]
  },
  {
   "cell_type": "code",
   "execution_count": 52,
   "id": "2f2f303b",
   "metadata": {
    "scrolled": true,
    "slideshow": {
     "slide_type": "fragment"
    }
   },
   "outputs": [
    {
     "data": {
      "text/plain": [
       "defaultdict(list,\n",
       "            {'product_1': ['customer_a', 'customer_c'],\n",
       "             'product_2': ['customer_b']})"
      ]
     },
     "execution_count": 52,
     "metadata": {},
     "output_type": "execute_result"
    }
   ],
   "source": [
    "# With defaultdict\n",
    "from collections import defaultdict\n",
    "\n",
    "product_orders = defaultdict(list)  # All values are an empty list by default\n",
    "for customer, product in history:\n",
    "    product_orders[product].append(customer)\n",
    "    \n",
    "product_orders"
   ]
  },
  {
   "cell_type": "code",
   "execution_count": 55,
   "id": "a7c2d537",
   "metadata": {
    "slideshow": {
     "slide_type": "fragment"
    }
   },
   "outputs": [
    {
     "data": {
      "text/plain": [
       "User(name='Rami')"
      ]
     },
     "execution_count": 55,
     "metadata": {},
     "output_type": "execute_result"
    }
   ],
   "source": [
    "# We can even have defaultdicts of custom datatypes!\n",
    "from pydantic import BaseModel\n",
    "from typing import Optional\n",
    "\n",
    "class User(BaseModel):\n",
    "    name: Optional[str]\n",
    "        \n",
    "users = defaultdict(User)\n",
    "\n",
    "# No need to initialize empty instance! Automatically done:\n",
    "users[\"rami\"].name = \"Rami\"\n",
    "users[\"rami\"]"
   ]
  },
  {
   "cell_type": "markdown",
   "id": "6c23b380",
   "metadata": {
    "slideshow": {
     "slide_type": "slide"
    }
   },
   "source": [
    "### 3. Deque: Used, but not that often"
   ]
  },
  {
   "cell_type": "markdown",
   "id": "bd9e4ff9",
   "metadata": {
    "slideshow": {
     "slide_type": "fragment"
    }
   },
   "source": [
    "- Useful for keeping last N results dynamically while iterating (ex. moving averages)"
   ]
  },
  {
   "cell_type": "code",
   "execution_count": 29,
   "id": "fe6c3307",
   "metadata": {
    "slideshow": {
     "slide_type": "skip"
    }
   },
   "outputs": [],
   "source": [
    "import matplotlib.pyplot as plt"
   ]
  },
  {
   "cell_type": "code",
   "execution_count": 58,
   "id": "9d3857af",
   "metadata": {
    "slideshow": {
     "slide_type": "fragment"
    }
   },
   "outputs": [],
   "source": [
    "from collections import deque\n",
    "import matplotlib.pyplot as plt\n",
    "\n",
    "daily_prices = [100, 104, 105, 110, 109, 101, 98, 96, 97, 95, 98, 99, 101, 102]\n",
    "\n",
    "# Calculate moving average\n",
    "tmp = deque(maxlen=3)\n",
    "ma_3day = deque()\n",
    "\n",
    "for price in daily_prices:\n",
    "    tmp.append(price)\n",
    "    ma_3day.append(sum(tmp)/3)\n",
    "\n",
    "# Discard first two items: O(1) since double ended queue\n",
    "_ = ma_3day.popleft()\n",
    "_ = ma_3day.popleft()"
   ]
  },
  {
   "cell_type": "code",
   "execution_count": 59,
   "id": "bbe51f3f",
   "metadata": {
    "slideshow": {
     "slide_type": "slide"
    }
   },
   "outputs": [
    {
     "data": {
      "text/plain": [
       "[<matplotlib.lines.Line2D at 0x110462730>]"
      ]
     },
     "execution_count": 59,
     "metadata": {},
     "output_type": "execute_result"
    },
    {
     "data": {
      "image/png": "[encoded data removed]",
      "text/plain": [
       "<Figure size 432x288 with 1 Axes>"
      ]
     },
     "metadata": {
      "needs_background": "light"
     },
     "output_type": "display_data"
    }
   ],
   "source": [
    "plt.plot(range(len(daily_prices)), daily_prices)\n",
    "plt.plot(range(1, len(daily_prices) - 1), ma_3day)"
   ]
  },
  {
   "cell_type": "markdown",
   "id": "fa133170",
   "metadata": {
    "slideshow": {
     "slide_type": "slide"
    }
   },
   "source": [
    "Practically, I've mostly used it for graph searching\n",
    "\n",
    "Ex. https://github.com/RamiAwar/packr/blob/bd4421806154d4cce361bee7817faf9e8a5e8ea0/packr/core.py#L189"
   ]
  },
  {
   "cell_type": "code",
   "execution_count": 56,
   "id": "dca545b6",
   "metadata": {
    "slideshow": {
     "slide_type": "skip"
    }
   },
   "outputs": [],
   "source": [
    "def do_something(x):\n",
    "    pass"
   ]
  },
  {
   "cell_type": "code",
   "execution_count": 60,
   "id": "110d9308",
   "metadata": {
    "slideshow": {
     "slide_type": "fragment"
    }
   },
   "outputs": [
    {
     "name": "stdout",
     "output_type": "stream",
     "text": [
      "visiting 2\n",
      "visiting 1\n",
      "visiting 3\n",
      "visiting 3\n",
      "visiting 5\n",
      "visiting 9\n"
     ]
    }
   ],
   "source": [
    "nodes = deque([2, 1, 3])\n",
    "\n",
    "graph = {\n",
    "    1: [9],\n",
    "    2: [3, 5],\n",
    "}\n",
    "\n",
    "while nodes:\n",
    "    # First in, first out\n",
    "    node = nodes.popleft()\n",
    "    \n",
    "    print(f\"visiting {node}\")\n",
    "    \n",
    "    if graph.get(node):\n",
    "        nodes.extend(graph[node])"
   ]
  },
  {
   "cell_type": "markdown",
   "id": "6e34aae9",
   "metadata": {
    "slideshow": {
     "slide_type": "slide"
    }
   },
   "source": [
    "# 4. Heapq: Meh, rarely used"
   ]
  },
  {
   "cell_type": "code",
   "execution_count": 61,
   "id": "6e9e999c",
   "metadata": {
    "slideshow": {
     "slide_type": "fragment"
    }
   },
   "outputs": [
    {
     "data": {
      "text/plain": [
       "[{'name': 'AAPL', 'shares': 50, 'price': 543.22},\n",
       " {'name': 'ACME', 'shares': 75, 'price': 115.65},\n",
       " {'name': 'IBM', 'shares': 100, 'price': 91.1}]"
      ]
     },
     "execution_count": 61,
     "metadata": {},
     "output_type": "execute_result"
    }
   ],
   "source": [
    "import heapq\n",
    "\n",
    "portfolio = [\n",
    "       {'name': 'IBM', 'shares': 100, 'price': 91.1},\n",
    "       {'name': 'AAPL', 'shares': 50, 'price': 543.22},\n",
    "       {'name': 'FB', 'shares': 200, 'price': 21.09},\n",
    "       {'name': 'HPQ', 'shares': 35, 'price': 31.75},\n",
    "       {'name': 'YHOO', 'shares': 45, 'price': 16.35},\n",
    "       {'name': 'ACME', 'shares': 75, 'price': 115.65}\n",
    "]\n",
    "\n",
    "expensive_3 = heapq.nlargest(3, portfolio, key=lambda s: s[\"price\"])\n",
    "expensive_3\n",
    "\n",
    "# Notice not sorted"
   ]
  },
  {
   "cell_type": "markdown",
   "id": "48e7bd17",
   "metadata": {
    "slideshow": {
     "slide_type": "fragment"
    }
   },
   "source": [
    "If populating on the fly, construct a heap and use `heappush()` and `heappop()` ex. PriorityQueue from book"
   ]
  },
  {
   "cell_type": "markdown",
   "id": "538a3446",
   "metadata": {
    "slideshow": {
     "slide_type": "slide"
    }
   },
   "source": [
    "# 5. Dictionary Tools\n",
    "\n",
    "- Invert keys, values to operate on values"
   ]
  },
  {
   "cell_type": "code",
   "execution_count": 63,
   "id": "69138d08",
   "metadata": {
    "slideshow": {
     "slide_type": "fragment"
    }
   },
   "outputs": [
    {
     "name": "stdout",
     "output_type": "stream",
     "text": [
      "min_price = (-1, 'c')\n"
     ]
    },
    {
     "data": {
      "text/plain": [
       "[(-1, 'c'), (1, 'a'), (2, 'b'), (5, 'd')]"
      ]
     },
     "execution_count": 63,
     "metadata": {},
     "output_type": "execute_result"
    }
   ],
   "source": [
    "prices = {\"a\": 1, \"b\": 2, \"c\": -1, \"d\": 5}\n",
    "\n",
    "min_price = min(zip(prices.values(), prices.keys()))\n",
    "print(f\"min_price = {min_price}\")\n",
    "\n",
    "prices_sorted = sorted(zip(prices.values(), prices.keys()))\n",
    "prices_sorted"
   ]
  },
  {
   "cell_type": "markdown",
   "id": "1fc23038",
   "metadata": {
    "slideshow": {
     "slide_type": "slide"
    }
   },
   "source": [
    "Personally I think this is unclear code as it assumes knowledge of sorted using the first element of tuples. The following is more Pythonic:"
   ]
  },
  {
   "cell_type": "code",
   "execution_count": 82,
   "id": "6a5cbdf3",
   "metadata": {
    "slideshow": {
     "slide_type": "fragment"
    }
   },
   "outputs": [
    {
     "data": {
      "text/plain": [
       "[('c', -1), ('a', 1), ('b', 2), ('d', 5)]"
      ]
     },
     "execution_count": 82,
     "metadata": {},
     "output_type": "execute_result"
    }
   ],
   "source": [
    "sorted(prices.items(), key=lambda x: x[1])"
   ]
  },
  {
   "cell_type": "markdown",
   "id": "6ea64b82",
   "metadata": {
    "slideshow": {
     "slide_type": "fragment"
    }
   },
   "source": [
    "When doing these calculations, be aware that zip() creates an iterator that can only be consumed once. We will talk more about this in the amazing chapter 4: iterators, generators."
   ]
  },
  {
   "cell_type": "code",
   "execution_count": 66,
   "id": "09bbaf35",
   "metadata": {
    "slideshow": {
     "slide_type": "fragment"
    }
   },
   "outputs": [
    {
     "name": "stdout",
     "output_type": "stream",
     "text": [
      "a: [(1, 'a'), (2, 'b'), (-1, 'c'), (5, 'd')]\n",
      "b:[]\n"
     ]
    }
   ],
   "source": [
    "z = zip(prices.values(), prices.keys())\n",
    "\n",
    "a = list(z)\n",
    "b = list(z)\n",
    "\n",
    "print(f\"a: {a}\\nb:{b}\")"
   ]
  },
  {
   "cell_type": "markdown",
   "id": "d0ec7987",
   "metadata": {
    "slideshow": {
     "slide_type": "slide"
    }
   },
   "source": [
    "# 6. Don't be afraid of using generators\n",
    "\n",
    "- 1.10: Remove duplicates from a sequence while maintaining order"
   ]
  },
  {
   "cell_type": "code",
   "execution_count": 71,
   "id": "d10cd45b",
   "metadata": {
    "slideshow": {
     "slide_type": "fragment"
    }
   },
   "outputs": [
    {
     "ename": "SyntaxError",
     "evalue": "unexpected EOF while parsing (4028681565.py, line 14)",
     "output_type": "error",
     "traceback": [
      "\u001b[0;36m  Input \u001b[0;32mIn [71]\u001b[0;36m\u001b[0m\n\u001b[0;31m    print(item\u001b[0m\n\u001b[0m              ^\u001b[0m\n\u001b[0;31mSyntaxError\u001b[0m\u001b[0;31m:\u001b[0m unexpected EOF while parsing\n"
     ]
    }
   ],
   "source": [
    "from typing import List, Iterator\n",
    "\n",
    "items: List[int] = [1, 2, 1, 5, 5, 3, 8, 1, 2, 8, 3, 5, 9]\n",
    "\n",
    "\n",
    "def dedupe(items) -> Iterator[int]:\n",
    "    seen = set()\n",
    "    for item in items:\n",
    "        if item not in seen:\n",
    "            yield item\n",
    "            seen.add(item)\n",
    "\n",
    "for item in dedupe(items):\n",
    "    print(item"
   ]
  },
  {
   "cell_type": "markdown",
   "id": "b9013f49",
   "metadata": {
    "slideshow": {
     "slide_type": "slide"
    }
   },
   "source": [
    "### Why use generators not a list? Will be clearer in chapter 4!\n",
    "\n",
    "Generators are lazy. They will not 'yield' their values until consumed essentially.\n",
    "\n"
   ]
  },
  {
   "cell_type": "code",
   "execution_count": 72,
   "id": "74644868",
   "metadata": {
    "slideshow": {
     "slide_type": "fragment"
    }
   },
   "outputs": [
    {
     "data": {
      "text/plain": [
       "<generator object dedupe at 0x1105383c0>"
      ]
     },
     "execution_count": 72,
     "metadata": {},
     "output_type": "execute_result"
    }
   ],
   "source": [
    "x = dedupe(items)\n",
    "x"
   ]
  },
  {
   "cell_type": "code",
   "execution_count": 74,
   "id": "db3a480e",
   "metadata": {
    "slideshow": {
     "slide_type": "fragment"
    }
   },
   "outputs": [
    {
     "ename": "TypeError",
     "evalue": "'generator' object is not subscriptable",
     "output_type": "error",
     "traceback": [
      "\u001b[0;31m---------------------------------------------------------------------------\u001b[0m",
      "\u001b[0;31mTypeError\u001b[0m                                 Traceback (most recent call last)",
      "Input \u001b[0;32mIn [74]\u001b[0m, in \u001b[0;36m<cell line: 1>\u001b[0;34m()\u001b[0m\n\u001b[0;32m----> 1\u001b[0m \u001b[43mx\u001b[49m\u001b[43m[\u001b[49m\u001b[38;5;241;43m1\u001b[39;49m\u001b[43m]\u001b[49m\n",
      "\u001b[0;31mTypeError\u001b[0m: 'generator' object is not subscriptable"
     ]
    }
   ],
   "source": [
    "x[1]"
   ]
  },
  {
   "cell_type": "code",
   "execution_count": 75,
   "id": "c40bcbaf",
   "metadata": {},
   "outputs": [
    {
     "data": {
      "text/plain": [
       "1"
      ]
     },
     "execution_count": 75,
     "metadata": {},
     "output_type": "execute_result"
    }
   ],
   "source": [
    "next(x)"
   ]
  },
  {
   "cell_type": "code",
   "execution_count": 76,
   "id": "8b04d0b4",
   "metadata": {
    "slideshow": {
     "slide_type": "fragment"
    }
   },
   "outputs": [
    {
     "data": {
      "text/plain": [
       "[2, 5, 3, 8, 9]"
      ]
     },
     "execution_count": 76,
     "metadata": {},
     "output_type": "execute_result"
    }
   ],
   "source": [
    "list(x)"
   ]
  },
  {
   "cell_type": "code",
   "execution_count": 11,
   "id": "20607100",
   "metadata": {
    "slideshow": {
     "slide_type": "fragment"
    }
   },
   "outputs": [
    {
     "data": {
      "text/plain": [
       "[]"
      ]
     },
     "execution_count": 11,
     "metadata": {},
     "output_type": "execute_result"
    }
   ],
   "source": [
    "list(x)"
   ]
  },
  {
   "cell_type": "markdown",
   "id": "a0d9bd3c",
   "metadata": {
    "slideshow": {
     "slide_type": "slide"
    }
   },
   "source": [
    "# 7. Slices are first class citizens!\n",
    "\n",
    "Avoid magic numbers where you can!\n",
    "\n",
    "Hardcoded slices can be confusing. Use Python's built-in slice object instead."
   ]
  },
  {
   "cell_type": "code",
   "execution_count": 77,
   "id": "03734a66",
   "metadata": {
    "slideshow": {
     "slide_type": "fragment"
    }
   },
   "outputs": [
    {
     "data": {
      "text/plain": [
       "19.333333333333332"
      ]
     },
     "execution_count": 77,
     "metadata": {},
     "output_type": "execute_result"
    }
   ],
   "source": [
    "import numpy as np\n",
    "\n",
    "prices = np.array([1, 2, 3, 4, 5])\n",
    "quantities = np.array([10, 12, 8, 1, 3])\n",
    "\n",
    "first_3 = slice(0,3)\n",
    "\n",
    "three_day_average = sum(prices[first_3] * quantities[first_3]) / 3.0\n",
    "three_day_average"
   ]
  },
  {
   "cell_type": "code",
   "execution_count": 23,
   "id": "efb583ac",
   "metadata": {
    "slideshow": {
     "slide_type": "fragment"
    }
   },
   "outputs": [
    {
     "data": {
      "text/plain": [
       "(0, 3)"
      ]
     },
     "execution_count": 23,
     "metadata": {},
     "output_type": "execute_result"
    }
   ],
   "source": [
    "first_3.start, first_3.stop"
   ]
  },
  {
   "cell_type": "markdown",
   "id": "e0bb2886",
   "metadata": {
    "slideshow": {
     "slide_type": "slide"
    }
   },
   "source": [
    "# 8. Counting, most common item and more"
   ]
  },
  {
   "cell_type": "code",
   "execution_count": 79,
   "id": "4acc5775",
   "metadata": {
    "slideshow": {
     "slide_type": "fragment"
    }
   },
   "outputs": [
    {
     "data": {
      "text/plain": [
       "[('a', 3), ('b', 3), ('c', 2)]"
      ]
     },
     "execution_count": 79,
     "metadata": {},
     "output_type": "execute_result"
    }
   ],
   "source": [
    "categories = [\"a\", \"b\", \"a\", \"c\", \"d\", \"b\", \"b\", \"d\", \"j\", \"e\", \"s\", \"s\", \"a\", \"c\", \"g\"]\n",
    "\n",
    "from collections import Counter\n",
    "\n",
    "Counter(categories).most_common(3)"
   ]
  },
  {
   "cell_type": "code",
   "execution_count": null,
   "id": "61ec73e5",
   "metadata": {},
   "outputs": [],
   "source": []
  },
  {
   "cell_type": "markdown",
   "id": "e5c18df0",
   "metadata": {
    "slideshow": {
     "slide_type": "slide"
    }
   },
   "source": [
    "# 9. Lambda Alternatives when sorting\n",
    "\n",
    "Also a tiny bit faster"
   ]
  },
  {
   "cell_type": "code",
   "execution_count": 80,
   "id": "e3af86fd",
   "metadata": {
    "slideshow": {
     "slide_type": "fragment"
    }
   },
   "outputs": [],
   "source": [
    "from operator import attrgetter, itemgetter\n",
    "\n",
    "# Attrgetter \n",
    "\n",
    "users = [User(name=\"Rami\"), User(name=\"David\"), User(name=\"Stojan\"), User(name=\"Atul\")]"
   ]
  },
  {
   "cell_type": "code",
   "execution_count": 81,
   "id": "f4022284",
   "metadata": {
    "slideshow": {
     "slide_type": "fragment"
    }
   },
   "outputs": [
    {
     "name": "stdout",
     "output_type": "stream",
     "text": [
      "277 ns ± 2.03 ns per loop (mean ± std. dev. of 7 runs, 1,000,000 loops each)\n"
     ]
    }
   ],
   "source": [
    "%%timeit\n",
    "max(users, key=attrgetter('name'))"
   ]
  },
  {
   "cell_type": "code",
   "execution_count": 82,
   "id": "e270b72a",
   "metadata": {
    "slideshow": {
     "slide_type": "fragment"
    }
   },
   "outputs": [
    {
     "name": "stdout",
     "output_type": "stream",
     "text": [
      "320 ns ± 1.51 ns per loop (mean ± std. dev. of 7 runs, 1,000,000 loops each)\n"
     ]
    }
   ],
   "source": [
    "%%timeit\n",
    "max(users, key=lambda user: user.name)"
   ]
  },
  {
   "cell_type": "code",
   "execution_count": 83,
   "id": "22e80738",
   "metadata": {
    "slideshow": {
     "slide_type": "fragment"
    }
   },
   "outputs": [
    {
     "data": {
      "text/plain": [
       "{'age': 20}"
      ]
     },
     "execution_count": 83,
     "metadata": {},
     "output_type": "execute_result"
    }
   ],
   "source": [
    "# Itemgetter\n",
    "\n",
    "users = [{\"age\": 10}, {\"age\": 20}, {\"age\": 3}, {\"age\": 4}]\n",
    "\n",
    "max(users, key=itemgetter(\"age\"))"
   ]
  },
  {
   "cell_type": "code",
   "execution_count": null,
   "id": "fe598598",
   "metadata": {},
   "outputs": [],
   "source": []
  }
 ],
 "metadata": {
  "celltoolbar": "Slideshow",
  "kernelspec": {
   "display_name": "Python 3 (ipykernel)",
   "language": "python",
   "name": "python3"
  },
  "language_info": {
   "codemirror_mode": {
    "name": "ipython",
    "version": 3
   },
   "file_extension": ".py",
   "mimetype": "text/x-python",
   "name": "python",
   "nbconvert_exporter": "python",
   "pygments_lexer": "ipython3",
   "version": "3.9.13"
  },
  "vscode": {
   "interpreter": {
    "hash": "949777d72b0d2535278d3dc13498b2535136f6dfe0678499012e853ee9abcab1"
   }
  }
 },
 "nbformat": 4,
 "nbformat_minor": 5
}
